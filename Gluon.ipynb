{
 "cells": [
  {
   "cell_type": "code",
   "execution_count": 1,
   "metadata": {},
   "outputs": [
    {
     "name": "stderr",
     "output_type": "stream",
     "text": [
      "C:\\ProgramData\\Anaconda3\\lib\\site-packages\\h5py\\__init__.py:36: FutureWarning: Conversion of the second argument of issubdtype from `float` to `np.floating` is deprecated. In future, it will be treated as `np.float64 == np.dtype(float).type`.\n",
      "  from ._conv import register_converters as _register_converters\n",
      "C:\\ProgramData\\Anaconda3\\lib\\site-packages\\h5py\\tests\\old\\test_attrs_data.py:251: DeprecationWarning: invalid escape sequence \\H\n",
      "  s = b\"Hello\\x00\\Hello\"\n",
      "C:\\ProgramData\\Anaconda3\\lib\\site-packages\\sklearn\\externals\\joblib\\func_inspect.py:53: DeprecationWarning: invalid escape sequence \\<\n",
      "  '\\<doctest (.*\\.rst)\\[(.*)\\]\\>', source_file).groups()\n",
      "C:\\ProgramData\\Anaconda3\\lib\\site-packages\\sklearn\\externals\\joblib\\_memory_helpers.py:10: DeprecationWarning: invalid escape sequence \\s\n",
      "  cookie_re = re.compile(\"coding[:=]\\s*([-\\w.]+)\")\n"
     ]
    }
   ],
   "source": [
    "import mxnet as mx\n",
    "import numpy as np\n",
    "from mxnet import nd, autograd, gluon\n",
    "mx.random.seed(1)"
   ]
  },
  {
   "cell_type": "code",
   "execution_count": 2,
   "metadata": {},
   "outputs": [],
   "source": [
    "data_ctx=mx.gpu()\n",
    "model_ctx=mx.gpu()\n",
    "ctx=mx.gpu()"
   ]
  },
  {
   "cell_type": "code",
   "execution_count": 3,
   "metadata": {},
   "outputs": [],
   "source": [
    "# 创建训练集iter\n",
    "train_iter = mx.io.ImageRecordIter(\n",
    "    path_imgrec=\"image_data_train.rec\", \n",
    "    data_shape=(3,32,32),\n",
    "    batch_size=10,\n",
    "    scale=1/255,\n",
    "    shuffle=1,\n",
    "    rand_crop=True,\n",
    "    rand_mirror=True\n",
    "    \n",
    ")\n",
    "\n",
    "# 创建内部测试集iter\n",
    "val_iter = mx.io.ImageRecordIter(\n",
    "    path_imgrec=\"image_data_test.rec\",\n",
    "    data_shape=(3,32,32),\n",
    "    batch_size=10,\n",
    "    scale=1/255,\n",
    "    shuffle=1\n",
    "    \n",
    ")"
   ]
  },
  {
   "cell_type": "code",
   "execution_count": 5,
   "metadata": {},
   "outputs": [
    {
     "name": "stdout",
     "output_type": "stream",
     "text": [
      "DataBatch: data shapes: [(10, 3, 32, 32)] label shapes: [(10,)]\n"
     ]
    },
    {
     "data": {
      "image/png": "[encoded data removed]",
      "text/plain": [
       "<matplotlib.figure.Figure at 0x21e2e2578d0>"
      ]
     },
     "metadata": {},
     "output_type": "display_data"
    }
   ],
   "source": [
    "from matplotlib import pyplot as plt\n",
    "train_iter.reset()\n",
    "batch = train_iter.next() #\n",
    "print(batch) \n",
    "\n",
    "data = batch.data[0]\n",
    "fig=plt.figure(0,figsize=(20,20))\n",
    "\n",
    "for i in range(3):\n",
    "    plt.subplot(1, 3, i+1)\n",
    "    plt.imshow((data[i]*255).asnumpy().astype(np.uint8).transpose((1,2,0)))\n",
    "    \n",
    "plt.show()"
   ]
  },
  {
   "cell_type": "code",
   "execution_count": 7,
   "metadata": {},
   "outputs": [],
   "source": [
    "batch_size=50\n",
    "num_outputs=4\n",
    "    "
   ]
  },
  {
   "cell_type": "code",
   "execution_count": null,
   "metadata": {},
   "outputs": [],
   "source": [
    "train_iter.reset()\n",
    "for data in train_iter:\n",
    "    print(data)"
   ]
  },
  {
   "cell_type": "code",
   "execution_count": null,
   "metadata": {},
   "outputs": [],
   "source": [
    "train_iter.reset()\n",
    "for i,batch in enumerate(train_iter):\n",
    "    print(batch)"
   ]
  },
  {
   "cell_type": "code",
   "execution_count": 68,
   "metadata": {},
   "outputs": [
    {
     "name": "stdout",
     "output_type": "stream",
     "text": [
      "\n",
      "[[[ 0.19803923  0.16274512  0.02156866 ...  0.04509807  0.08039218\n",
      "    0.08823532]\n",
      "  [ 0.14705884  0.5         0.5        ...  0.5         0.5\n",
      "    0.3705883 ]\n",
      "  [ 0.02941179  0.5         0.43725497 ...  0.47647065  0.5\n",
      "    0.25686282]\n",
      "  ...\n",
      "  [ 0.03333336  0.5         0.47647065 ...  0.5         0.5\n",
      "    0.26470596]\n",
      "  [ 0.08823532  0.5         0.5        ...  0.5         0.5\n",
      "    0.31568635]\n",
      "  [ 0.08431375  0.3588236   0.26470596 ...  0.2607844   0.3196079\n",
      "    0.15882355]]\n",
      "\n",
      " [[-0.39803922 -0.2607843  -0.23725489 ... -0.23725489 -0.24509802\n",
      "   -0.29215685]\n",
      "  [-0.27647057  0.4215687   0.47647065 ...  0.46470594  0.4333334\n",
      "    0.12352943]\n",
      "  [-0.22941175  0.47647065  0.5        ...  0.5         0.48823535\n",
      "    0.13529414]\n",
      "  ...\n",
      "  [-0.2490196   0.46470594  0.5        ...  0.5         0.4843138\n",
      "    0.14313728]\n",
      "  [-0.22941175  0.43725497  0.48823535 ...  0.48823535  0.45294124\n",
      "    0.14313728]\n",
      "  [-0.2960784   0.11176473  0.14313728 ...  0.13921571  0.14705884\n",
      "   -0.07647055]]\n",
      "\n",
      " [[-0.4019608  -0.2607843  -0.23333332 ... -0.23333332 -0.2607843\n",
      "   -0.31960785]\n",
      "  [-0.27647057  0.4215687   0.47254908 ...  0.47254908  0.4215687\n",
      "    0.10392159]\n",
      "  [-0.22549018  0.47254908  0.5        ...  0.5         0.4843138\n",
      "    0.127451  ]\n",
      "  ...\n",
      "  [-0.24509802  0.47254908  0.5        ...  0.47254908  0.45294124\n",
      "    0.13137257]\n",
      "  [-0.24509802  0.42549026  0.4843138  ...  0.4568628   0.4333334\n",
      "    0.13921571]\n",
      "  [-0.32352942  0.09215689  0.13529414 ...  0.127451    0.14313728\n",
      "   -0.07647055]]]\n",
      "<NDArray 3x200x200 @gpu(0)>\n"
     ]
    }
   ],
   "source": [
    "train_iter.reset()\n",
    "test=train_iter.next()\n",
    "#print(test.data)\n",
    "label=test.data\n",
    "label=(label[0]-0.5).as_in_context(ctx)\n",
    "print(label[0])"
   ]
  },
  {
   "cell_type": "code",
   "execution_count": 56,
   "metadata": {},
   "outputs": [],
   "source": [
    "num_fc=128\n",
    "net=gluon.nn.Sequential()\n",
    "with net.name_scope():\n",
    "    net.add(gluon.nn.Conv2D(channels=20,kernel_size=5,activation='relu'))\n",
    "    net.add(gluon.nn.MaxPool2D(pool_size=2,strides=2))\n",
    "    net.add(gluon.nn.Conv2D(channels=50,kernel_size=5,activation='relu'))\n",
    "    net.add(gluon.nn.MaxPool2D(pool_size=2,strides=2))\n",
    "    net.add(gluon.nn.Flatten())\n",
    "    net.add(gluon.nn.Dense(num_fc,activation='relu'))\n",
    "    net.add(gluon.nn.Dense(num_outputs))"
   ]
  },
  {
   "cell_type": "code",
   "execution_count": 57,
   "metadata": {},
   "outputs": [],
   "source": [
    "net.collect_params().initialize(mx.init.Xavier(magnitude=2.24),ctx=ctx)"
   ]
  },
  {
   "cell_type": "code",
   "execution_count": 58,
   "metadata": {},
   "outputs": [],
   "source": [
    "softmax_cross_entropy=gluon.loss.SoftmaxCrossEntropyLoss()"
   ]
  },
  {
   "cell_type": "code",
   "execution_count": 59,
   "metadata": {},
   "outputs": [],
   "source": [
    "trainer=gluon.Trainer(net.collect_params(),'sgd',{'learning_rate':.1})"
   ]
  },
  {
   "cell_type": "code",
   "execution_count": 69,
   "metadata": {},
   "outputs": [],
   "source": [
    "def evaluate_accuracy(data_iterator,net):\n",
    "    acc=mx.metric.Accuracy()\n",
    "    for batch in (data_iterator):\n",
    "        data=(batch.data[0]).as_in_context(ctx)\n",
    "        label=batch.label[0].as_in_context(ctx)\n",
    "        output=net(data)\n",
    "        predictions=nd.argmax(output,axis=1)\n",
    "        #print(predictions)\n",
    "        #print(label)\n",
    "        acc.update(preds=predictions,labels=label)\n",
    "    return acc.get()[1]"
   ]
  },
  {
   "cell_type": "code",
   "execution_count": 70,
   "metadata": {},
   "outputs": [
    {
     "name": "stdout",
     "output_type": "stream",
     "text": [
      "Epoch 0. Loss: 1.3894529664759934, Train_acc 0.24536082474226803, Test_acc 0.256\n",
      "Epoch 1. Loss: 1.3902923548085393, Train_acc 0.24536082474226803, Test_acc 0.26666666666666666\n",
      "Epoch 2. Loss: 1.3891243152344945, Train_acc 0.25463917525773194, Test_acc 0.22083333333333333\n",
      "Epoch 3. Loss: 1.390355684642768, Train_acc 0.24742268041237114, Test_acc 0.26666666666666666\n",
      "Epoch 4. Loss: 1.390765530385787, Train_acc 0.24895833333333334, Test_acc 0.25833333333333336\n",
      "Epoch 5. Loss: 1.3911639399453837, Train_acc 0.24536082474226803, Test_acc 0.272\n",
      "Epoch 6. Loss: 1.388080383861184, Train_acc 0.24742268041237114, Test_acc 0.26666666666666666\n",
      "Epoch 7. Loss: 1.3917990115344683, Train_acc 0.2463917525773196, Test_acc 0.2708333333333333\n",
      "Epoch 8. Loss: 1.3910018300189633, Train_acc 0.2463917525773196, Test_acc 0.2625\n",
      "Epoch 9. Loss: 1.3886415260915415, Train_acc 0.246875, Test_acc 0.25833333333333336\n"
     ]
    }
   ],
   "source": [
    "epochs=10\n",
    "smoothing_constant=0.1\n",
    "for e in range(epochs):\n",
    "    train_iter.reset()\n",
    "    val_iter.reset()\n",
    "    for i, batch in enumerate(train_iter):\n",
    "        data=(batch.data[0]).as_in_context(ctx)\n",
    "        #print(data[0])\n",
    "        label=batch.label[0].as_in_context(ctx)\n",
    "        with autograd.record():\n",
    "            output=net(data)\n",
    "            loss=softmax_cross_entropy(output,label)\n",
    "        loss.backward()\n",
    "        trainer.step(data.shape[0])\n",
    "        curr_loss=nd.mean(loss).asscalar()\n",
    "        #print(net(data))\n",
    "        moving_loss=(curr_loss if ((i==0) and (e==0))\n",
    "                     else(1-smoothing_constant)*moving_loss+smoothing_constant*curr_loss)\n",
    "    train_iter.reset()\n",
    "    test_accuracy=evaluate_accuracy(val_iter,net)\n",
    "    train_accuracy=evaluate_accuracy(train_iter,net)\n",
    "    print(\"Epoch %s. Loss: %s, Train_acc %s, Test_acc %s\" %(e, moving_loss,train_accuracy,test_accuracy))"
   ]
  }
 ],
 "metadata": {
  "kernelspec": {
   "display_name": "Python 3",
   "language": "python",
   "name": "python3"
  },
  "language_info": {
   "codemirror_mode": {
    "name": "ipython",
    "version": 3
   },
   "file_extension": ".py",
   "mimetype": "text/x-python",
   "name": "python",
   "nbconvert_exporter": "python",
   "pygments_lexer": "ipython3",
   "version": "3.6.4"
  }
 },
 "nbformat": 4,
 "nbformat_minor": 2
}
