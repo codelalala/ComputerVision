{
 "cells": [
  {
   "cell_type": "code",
   "execution_count": null,
   "metadata": {},
   "outputs": [],
   "source": [
    "import mxnet as mx\n",
    "import numpy as np\n",
    "import logging\n",
    "\n",
    "\n",
    "logging.basicConfig(level=logging.INFO)\n",
    "\n",
    "\n",
    "sample_count=1000\n",
    "train_count=800\n",
    "valid_count=sample_count-train_count\n",
    "\n",
    "feature_count=100\n",
    "category_count=10\n",
    "batch=10"
   ]
  },
  {
   "cell_type": "code",
   "execution_count": 5,
   "metadata": {},
   "outputs": [],
   "source": [
    "X=mx.nd.uniform(low=0,high=1,shape=(sample_count,feature_count))"
   ]
  },
  {
   "cell_type": "code",
   "execution_count": 6,
   "metadata": {},
   "outputs": [
    {
     "data": {
      "text/plain": [
       "(1000L, 100L)"
      ]
     },
     "execution_count": 6,
     "metadata": {},
     "output_type": "execute_result"
    }
   ],
   "source": [
    "X.shape"
   ]
  },
  {
   "cell_type": "code",
   "execution_count": 7,
   "metadata": {},
   "outputs": [
    {
     "data": {
      "text/plain": [
       "array([[ 0.54881352,  0.59284461,  0.71518934, ...,  0.60783064,\n",
       "         0.36371076,  0.32504722],\n",
       "       [ 0.57019675,  0.03842543,  0.43860152, ...,  0.36980811,\n",
       "         0.00469548,  0.14644176],\n",
       "       [ 0.67781651,  0.5696184 ,  0.27000797, ...,  0.46924916,\n",
       "         0.99884701,  0.84114015],\n",
       "       ..., \n",
       "       [ 0.59305507,  0.41538411,  0.24317271, ...,  0.58364183,\n",
       "         0.8284471 ,  0.4361586 ],\n",
       "       [ 0.71750212,  0.5193429 ,  0.80764365, ...,  0.15779524,\n",
       "         0.86435819,  0.72405148],\n",
       "       [ 0.82241368,  0.72197711,  0.85116214, ...,  0.24351381,\n",
       "         0.55131787,  0.12545156]], dtype=float32)"
      ]
     },
     "execution_count": 7,
     "metadata": {},
     "output_type": "execute_result"
    }
   ],
   "source": [
    "X.asnumpy()"
   ]
  },
  {
   "cell_type": "code",
   "execution_count": 8,
   "metadata": {},
   "outputs": [],
   "source": [
    "Y=mx.nd.empty((sample_count))\n",
    "for i in range(0,sample_count-1):\n",
    "    Y[i]=np.random.randint(0,category_count)"
   ]
  },
  {
   "cell_type": "code",
   "execution_count": 9,
   "metadata": {},
   "outputs": [
    {
     "data": {
      "text/plain": [
       "(1000L,)"
      ]
     },
     "execution_count": 9,
     "metadata": {},
     "output_type": "execute_result"
    }
   ],
   "source": [
    "Y.shape"
   ]
  },
  {
   "cell_type": "code",
   "execution_count": 44,
   "metadata": {},
   "outputs": [
    {
     "ename": "AttributeError",
     "evalue": "'DataBatch' object has no attribute 'asnumpy'",
     "output_type": "error",
     "traceback": [
      "\u001b[0;31m---------------------------------------------------------------------------\u001b[0m",
      "\u001b[0;31mAttributeError\u001b[0m                            Traceback (most recent call last)",
      "\u001b[0;32m<ipython-input-44-acd71f1410d9>\u001b[0m in \u001b[0;36m<module>\u001b[0;34m()\u001b[0m\n\u001b[1;32m      1\u001b[0m \u001b[0mY\u001b[0m\u001b[0;34m[\u001b[0m\u001b[0;36m0\u001b[0m\u001b[0;34m:\u001b[0m\u001b[0;36m10\u001b[0m\u001b[0;34m]\u001b[0m\u001b[0;34m.\u001b[0m\u001b[0masnumpy\u001b[0m\u001b[0;34m(\u001b[0m\u001b[0;34m)\u001b[0m\u001b[0;34m\u001b[0m\u001b[0m\n\u001b[0;32m----> 2\u001b[0;31m \u001b[0mbatch\u001b[0m\u001b[0;34m.\u001b[0m\u001b[0masnumpy\u001b[0m\u001b[0;34m(\u001b[0m\u001b[0;34m)\u001b[0m\u001b[0;34m\u001b[0m\u001b[0m\n\u001b[0m",
      "\u001b[0;31mAttributeError\u001b[0m: 'DataBatch' object has no attribute 'asnumpy'"
     ]
    }
   ],
   "source": [
    "Y[0:10].asnumpy()"
   ]
  },
  {
   "cell_type": "code",
   "execution_count": 47,
   "metadata": {},
   "outputs": [],
   "source": [
    "X_train=mx.nd.crop(X,begin=(0,0),end=(train_count,feature_count-1))\n",
    "X_valid=mx.nd.crop(X,begin=(train_count,0),end=(sample_count,feature_count-1))\n",
    "Y_train=Y[0:train_count]\n",
    "Y_valid=Y[train_count:sample_count]"
   ]
  },
  {
   "cell_type": "code",
   "execution_count": 26,
   "metadata": {},
   "outputs": [
    {
     "data": {
      "text/plain": [
       "(800L, 99L)"
      ]
     },
     "execution_count": 26,
     "metadata": {},
     "output_type": "execute_result"
    }
   ],
   "source": [
    "X_train.shape"
   ]
  },
  {
   "cell_type": "code",
   "execution_count": 12,
   "metadata": {},
   "outputs": [],
   "source": [
    "data=mx.sym.Variable('data')"
   ]
  },
  {
   "cell_type": "code",
   "execution_count": 13,
   "metadata": {},
   "outputs": [],
   "source": [
    "fc1=mx.sym.FullyConnected(data,name='fc1',num_hidden=64)"
   ]
  },
  {
   "cell_type": "code",
   "execution_count": 14,
   "metadata": {},
   "outputs": [],
   "source": [
    "relu1=mx.sym.Activation(fc1,name='relu1',act_type=\"relu\")"
   ]
  },
  {
   "cell_type": "code",
   "execution_count": 15,
   "metadata": {},
   "outputs": [],
   "source": [
    "fc2=mx.sym.FullyConnected(relu1,name='fc2',num_hidden=category_count)"
   ]
  },
  {
   "cell_type": "code",
   "execution_count": 16,
   "metadata": {},
   "outputs": [],
   "source": [
    "out=mx.sym.SoftmaxOutput(fc2,name='softmax')\n",
    "mod=mx.mod.Module(out)"
   ]
  },
  {
   "cell_type": "code",
   "execution_count": 48,
   "metadata": {},
   "outputs": [],
   "source": [
    "train_iter=mx.io.NDArrayIter(data=X_train,label=Y_train,batch_size=batch)"
   ]
  },
  {
   "cell_type": "code",
   "execution_count": 19,
   "metadata": {},
   "outputs": [],
   "source": [
    "train_iter.reset()"
   ]
  },
  {
   "cell_type": "code",
   "execution_count": 20,
   "metadata": {},
   "outputs": [],
   "source": [
    "mod.bind(data_shapes=train_iter.provide_data,label_shapes=train_iter.provide_label)"
   ]
  },
  {
   "cell_type": "code",
   "execution_count": 21,
   "metadata": {},
   "outputs": [],
   "source": [
    "mod.init_params(initializer=mx.init.Xavier(magnitude=2.))"
   ]
  },
  {
   "cell_type": "code",
   "execution_count": 22,
   "metadata": {},
   "outputs": [],
   "source": [
    "mod.init_optimizer(optimizer='sgd',optimizer_params=(('learning_rate',0.1),))"
   ]
  },
  {
   "cell_type": "code",
   "execution_count": 23,
   "metadata": {},
   "outputs": [
    {
     "name": "stderr",
     "output_type": "stream",
     "text": [
      "WARNING:root:Already bound, ignoring bind()\n",
      "/usr/local/lib/python2.7/dist-packages/mxnet/module/base_module.py:464: UserWarning: Parameters already initialized and force_init=False. init_params call ignored.\n",
      "  allow_missing=allow_missing, force_init=force_init)\n",
      "WARNING:root:optimizer already initialized, ignoring...\n",
      "INFO:root:Epoch[0] Train-accuracy=0.115000\n",
      "INFO:root:Epoch[0] Time cost=0.134\n",
      "INFO:root:Epoch[1] Train-accuracy=0.126250\n",
      "INFO:root:Epoch[1] Time cost=0.102\n",
      "INFO:root:Epoch[2] Train-accuracy=0.150000\n",
      "INFO:root:Epoch[2] Time cost=0.090\n",
      "INFO:root:Epoch[3] Train-accuracy=0.161250\n",
      "INFO:root:Epoch[3] Time cost=0.089\n",
      "INFO:root:Epoch[4] Train-accuracy=0.180000\n",
      "INFO:root:Epoch[4] Time cost=0.075\n",
      "INFO:root:Epoch[5] Train-accuracy=0.207500\n",
      "INFO:root:Epoch[5] Time cost=0.102\n",
      "INFO:root:Epoch[6] Train-accuracy=0.223750\n",
      "INFO:root:Epoch[6] Time cost=0.089\n",
      "INFO:root:Epoch[7] Train-accuracy=0.228750\n",
      "INFO:root:Epoch[7] Time cost=0.104\n",
      "INFO:root:Epoch[8] Train-accuracy=0.252500\n",
      "INFO:root:Epoch[8] Time cost=0.110\n",
      "INFO:root:Epoch[9] Train-accuracy=0.263750\n",
      "INFO:root:Epoch[9] Time cost=0.098\n",
      "INFO:root:Epoch[10] Train-accuracy=0.295000\n",
      "INFO:root:Epoch[10] Time cost=0.078\n",
      "INFO:root:Epoch[11] Train-accuracy=0.310000\n",
      "INFO:root:Epoch[11] Time cost=0.441\n",
      "INFO:root:Epoch[12] Train-accuracy=0.325000\n",
      "INFO:root:Epoch[12] Time cost=0.156\n",
      "INFO:root:Epoch[13] Train-accuracy=0.350000\n",
      "INFO:root:Epoch[13] Time cost=0.100\n",
      "INFO:root:Epoch[14] Train-accuracy=0.363750\n",
      "INFO:root:Epoch[14] Time cost=0.097\n",
      "INFO:root:Epoch[15] Train-accuracy=0.398750\n",
      "INFO:root:Epoch[15] Time cost=0.322\n",
      "INFO:root:Epoch[16] Train-accuracy=0.417500\n",
      "INFO:root:Epoch[16] Time cost=0.109\n",
      "INFO:root:Epoch[17] Train-accuracy=0.438750\n",
      "INFO:root:Epoch[17] Time cost=0.089\n",
      "INFO:root:Epoch[18] Train-accuracy=0.452500\n",
      "INFO:root:Epoch[18] Time cost=0.086\n",
      "INFO:root:Epoch[19] Train-accuracy=0.465000\n",
      "INFO:root:Epoch[19] Time cost=0.081\n",
      "INFO:root:Epoch[20] Train-accuracy=0.488750\n",
      "INFO:root:Epoch[20] Time cost=0.121\n",
      "INFO:root:Epoch[21] Train-accuracy=0.497500\n",
      "INFO:root:Epoch[21] Time cost=0.089\n",
      "INFO:root:Epoch[22] Train-accuracy=0.532500\n",
      "INFO:root:Epoch[22] Time cost=0.089\n",
      "INFO:root:Epoch[23] Train-accuracy=0.545000\n",
      "INFO:root:Epoch[23] Time cost=0.088\n",
      "INFO:root:Epoch[24] Train-accuracy=0.571250\n",
      "INFO:root:Epoch[24] Time cost=0.109\n",
      "INFO:root:Epoch[25] Train-accuracy=0.612500\n",
      "INFO:root:Epoch[25] Time cost=0.075\n",
      "INFO:root:Epoch[26] Train-accuracy=0.628750\n",
      "INFO:root:Epoch[26] Time cost=0.074\n",
      "INFO:root:Epoch[27] Train-accuracy=0.663750\n",
      "INFO:root:Epoch[27] Time cost=0.112\n",
      "INFO:root:Epoch[28] Train-accuracy=0.671250\n",
      "INFO:root:Epoch[28] Time cost=0.092\n",
      "INFO:root:Epoch[29] Train-accuracy=0.690000\n",
      "INFO:root:Epoch[29] Time cost=0.088\n",
      "INFO:root:Epoch[30] Train-accuracy=0.713750\n",
      "INFO:root:Epoch[30] Time cost=0.161\n",
      "INFO:root:Epoch[31] Train-accuracy=0.745000\n",
      "INFO:root:Epoch[31] Time cost=0.075\n",
      "INFO:root:Epoch[32] Train-accuracy=0.766250\n",
      "INFO:root:Epoch[32] Time cost=0.074\n",
      "INFO:root:Epoch[33] Train-accuracy=0.802500\n",
      "INFO:root:Epoch[33] Time cost=0.080\n",
      "INFO:root:Epoch[34] Train-accuracy=0.811250\n",
      "INFO:root:Epoch[34] Time cost=0.109\n",
      "INFO:root:Epoch[35] Train-accuracy=0.836250\n",
      "INFO:root:Epoch[35] Time cost=0.075\n",
      "INFO:root:Epoch[36] Train-accuracy=0.850000\n",
      "INFO:root:Epoch[36] Time cost=0.075\n",
      "INFO:root:Epoch[37] Train-accuracy=0.886250\n",
      "INFO:root:Epoch[37] Time cost=0.077\n",
      "INFO:root:Epoch[38] Train-accuracy=0.903750\n",
      "INFO:root:Epoch[38] Time cost=0.079\n",
      "INFO:root:Epoch[39] Train-accuracy=0.920000\n",
      "INFO:root:Epoch[39] Time cost=0.078\n",
      "INFO:root:Epoch[40] Train-accuracy=0.927500\n",
      "INFO:root:Epoch[40] Time cost=0.101\n",
      "INFO:root:Epoch[41] Train-accuracy=0.942500\n",
      "INFO:root:Epoch[41] Time cost=0.077\n",
      "INFO:root:Epoch[42] Train-accuracy=0.960000\n",
      "INFO:root:Epoch[42] Time cost=0.075\n",
      "INFO:root:Epoch[43] Train-accuracy=0.961250\n",
      "INFO:root:Epoch[43] Time cost=0.079\n",
      "INFO:root:Epoch[44] Train-accuracy=0.977500\n",
      "INFO:root:Epoch[44] Time cost=0.078\n",
      "INFO:root:Epoch[45] Train-accuracy=0.982500\n",
      "INFO:root:Epoch[45] Time cost=0.080\n",
      "INFO:root:Epoch[46] Train-accuracy=0.983750\n",
      "INFO:root:Epoch[46] Time cost=0.115\n",
      "INFO:root:Epoch[47] Train-accuracy=0.991250\n",
      "INFO:root:Epoch[47] Time cost=0.109\n",
      "INFO:root:Epoch[48] Train-accuracy=0.992500\n",
      "INFO:root:Epoch[48] Time cost=0.111\n",
      "INFO:root:Epoch[49] Train-accuracy=0.992500\n",
      "INFO:root:Epoch[49] Time cost=0.078\n"
     ]
    }
   ],
   "source": [
    "mod.fit(train_iter,num_epoch=50)"
   ]
  },
  {
   "cell_type": "code",
   "execution_count": 49,
   "metadata": {},
   "outputs": [],
   "source": [
    "pred_iter=mx.io.NDArrayIter(data=X_valid,label=Y_valid,batch_size=batch)"
   ]
  },
  {
   "cell_type": "code",
   "execution_count": 50,
   "metadata": {},
   "outputs": [
    {
     "name": "stdout",
     "output_type": "stream",
     "text": [
      "Validation accuracy: 0.10\n"
     ]
    }
   ],
   "source": [
    "pred_count=valid_count\n",
    "correct_preds=total_correct_preds=0\n",
    "\n",
    "for preds, i_batch, batch in mod.iter_predict(pred_iter):\n",
    "    label=batch.label[0].asnumpy().astype(int)\n",
    "    pred_label=preds[0].asnumpy().argmax(axis=1)\n",
    "    correct_preds=np.sum(pred_label==label)\n",
    "    total_correct_preds=total_correct_preds+correct_preds\n",
    "    \n",
    "print('Validation accuracy: %2.2f' %(1.0*total_correct_preds/pred_count))"
   ]
  },
  {
   "cell_type": "code",
   "execution_count": null,
   "metadata": {},
   "outputs": [],
   "source": []
  }
 ],
 "metadata": {
  "kernelspec": {
   "display_name": "Python 2",
   "language": "python",
   "name": "python2"
  },
  "language_info": {
   "codemirror_mode": {
    "name": "ipython",
    "version": 2
   },
   "file_extension": ".py",
   "mimetype": "text/x-python",
   "name": "python",
   "nbconvert_exporter": "python",
   "pygments_lexer": "ipython2",
   "version": "2.7.12"
  }
 },
 "nbformat": 4,
 "nbformat_minor": 2
}
