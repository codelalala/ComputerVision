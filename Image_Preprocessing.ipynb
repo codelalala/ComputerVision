{
 "cells": [
  {
   "cell_type": "code",
   "execution_count": 1,
   "metadata": {},
   "outputs": [
    {
     "name": "stdout",
     "output_type": "stream",
     "text": [
      "1212 303\n"
     ]
    }
   ],
   "source": [
    "#credits: https://github.com/stormouse/mxnet-practice/blob/master/image_clf_net/listgen.py\n",
    "import os\n",
    "import numpy as np\n",
    "import random\n",
    "\n",
    "train_loc = r\"images\"\n",
    "\n",
    "\n",
    "def make_image_data(data_loc, set_name):\n",
    "\n",
    "    # FORMAT ::= int_image_index \\t label_index \\t path_to_image \\n\n",
    "\n",
    "    image_files = os.listdir(data_loc)\n",
    "    random.seed(100)\n",
    "    random.shuffle(image_files)\n",
    "    n_image = len(image_files)\n",
    "    n_train = int(n_image * 0.8)\n",
    "    n_test = n_image - n_train\n",
    "    print(n_train,n_test)\n",
    "\n",
    "    fout = open(os.path.join(data_loc+'\\\\..', set_name+'_train.lst'), 'w')\n",
    "    fout_temp1 = open(os.path.join(data_loc+'\\\\..', set_name+'_temp1_train.lst'), 'w')\n",
    "    f1=[0,1,2,3,4]\n",
    "    \n",
    "    f2=[0,1,2]\n",
    "    #print(n_train)\n",
    "    for i in range(n_train):\n",
    "\n",
    "        filename = image_files[i]\n",
    "        name_number=int(filename.split('.')[0])\n",
    "        f1_num=name_number//10000000\n",
    "        name_number=name_number%10000000\n",
    "        f2_num=name_number//1000000\n",
    "        #print(f1_num,f2_num,name_number)\n",
    "        label=f1[f1_num]+f2_num*5\n",
    "        #label=f2[f2_num]\n",
    "        fout.write('%d\\t%d\\t%s\\n'%(i, label, filename))\n",
    "        if f2_num==0:\n",
    "            fout_temp1.write('%d\\t%d\\t%s\\n'%(i, f1_num, filename))\n",
    "        \n",
    "    fout.close()\n",
    "\n",
    "    # test\n",
    "\n",
    "    fout = open(os.path.join(data_loc+'\\\\..', set_name+'_test.lst'), 'w')\n",
    "    fout_temp1 = open(os.path.join(data_loc+'\\\\..', set_name+'_temp1_test.lst'), 'w')\n",
    "\n",
    "    for i in range(n_test):\n",
    "        filename = image_files[i]\n",
    "        name_number=int(filename.split('.')[0])\n",
    "        f1_num=name_number//10000000\n",
    "        name_number=name_number%10000000\n",
    "        f2_num=name_number//1000000\n",
    "        #print(f1_num,f2_num,name_number)\n",
    "        label=f1[f1_num]+f2_num*5\n",
    "        fout.write('%d\\t%d\\t%s\\n'%(i, label, filename))\n",
    "        if f2_num==1:\n",
    "            fout_temp1.write('%d\\t%d\\t%s\\n'%(i, f1_num, filename))\n",
    "    fout.close()\n",
    "\n",
    "make_image_data(train_loc, \"image_data\")"
   ]
  },
  {
   "cell_type": "code",
   "execution_count": 16,
   "metadata": {},
   "outputs": [
    {
     "name": "stdout",
     "output_type": "stream",
     "text": [
      "['32491000', 'png']\n"
     ]
    },
    {
     "data": {
      "text/plain": [
       "3"
      ]
     },
     "execution_count": 16,
     "metadata": {},
     "output_type": "execute_result"
    }
   ],
   "source": [
    "import os\n",
    "train_loc = r\"images\"\n",
    "image_files = os.listdir(train_loc)\n",
    "len(image_files)\n",
    "name=image_files[1200].split('.')\n",
    "print(name)\n",
    "int(name[0])//10000000"
   ]
  },
  {
   "cell_type": "code",
   "execution_count": 5,
   "metadata": {},
   "outputs": [
    {
     "name": "stdout",
     "output_type": "stream",
     "text": [
      " Volume in drive C has no label.\n",
      " Volume Serial Number is 404A-07E2\n",
      "\n",
      " Directory of C:\\Users\\Admin\\OneDrive\\Documents\\Code\\Mxnet\\resnet\n",
      "\n",
      "04/05/2018  10:35 PM    <DIR>          .\n",
      "04/05/2018  10:35 PM    <DIR>          ..\n",
      "04/05/2018  10:28 PM    <DIR>          .ipynb_checkpoints\n",
      "04/05/2018  10:35 PM             2,353 Image_Preprocessing.ipynb\n",
      "04/05/2018  10:05 PM    <DIR>          images\n",
      "04/01/2018  02:07 PM            19,734 resnet - Copy.py\n",
      "03/31/2018  10:47 AM            19,662 resnet.py\n",
      "03/31/2018  10:49 AM               248 test_super.py\n",
      "               4 File(s)         41,997 bytes\n",
      "               4 Dir(s)  356,994,981,888 bytes free\n"
     ]
    }
   ],
   "source": [
    "ls"
   ]
  }
 ],
 "metadata": {
  "kernelspec": {
   "display_name": "Python 3",
   "language": "python",
   "name": "python3"
  },
  "language_info": {
   "codemirror_mode": {
    "name": "ipython",
    "version": 3
   },
   "file_extension": ".py",
   "mimetype": "text/x-python",
   "name": "python",
   "nbconvert_exporter": "python",
   "pygments_lexer": "ipython3",
   "version": "3.6.4"
  }
 },
 "nbformat": 4,
 "nbformat_minor": 2
}
